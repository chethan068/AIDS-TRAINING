{
 "cells": [
  {
   "cell_type": "markdown",
   "id": "860d7040",
   "metadata": {},
   "source": [
    "# Standardization vs Normalisation"
   ]
  },
  {
   "cell_type": "markdown",
   "id": "fa7801ab",
   "metadata": {},
   "source": [
    "**1. Standardization** : \n",
    "\n",
    "standardisation transforms the data to have a mean(μ) of 0 and a standard deviation(σ) of 1."
   ]
  },
  {
   "cell_type": "markdown",
   "id": "36226b75",
   "metadata": {},
   "source": [
    "x standardized=X-μ/σ"
   ]
  },
  {
   "cell_type": "markdown",
   "id": "c46e2dae",
   "metadata": {},
   "source": [
    "# Normalisation "
   ]
  },
  {
   "cell_type": "markdown",
   "id": "fedbaf3b",
   "metadata": {},
   "source": [
    "### Min-Max Scaling Formula\n",
    "\n",
    "Min-Max Scaling transforms data into a fixed range, typically \\([0,1]\\).\n",
    "\n",
    "$$\n",
    "X' = \\frac{X - X_{\\min}}{X_{\\max} - X_{\\min}}\n",
    "$$\n",
    "\n",
    "Where:\n",
    "\n",
    "- \\( X \\) is the original value,  \n",
    "- \\( X_{\\min} \\) is the minimum value in the dataset,  \n",
    "- \\( X_{\\max} \\) is the maximum value in the dataset,  \n",
    "- \\( X' \\) is the normalized value in the range \\([0,1]\\).  \n",
    "\n",
    "For a custom range \\([a, b]\\):\n",
    "\n",
    "$$\n",
    "X' = a + \\frac{(X - X_{\\min}) (b - a)}{X_{\\max} - X_{\\min}}\n",
    "$$\n",
    "\n"
   ]
  },
  {
   "cell_type": "markdown",
   "id": "08f48b3c",
   "metadata": {},
   "source": []
  },
  {
   "cell_type": "markdown",
   "id": "7f926c7d",
   "metadata": {},
   "source": [
    "## 3. Key Differences\n",
    "\n",
    "| Feature                     | Standardization (Z-score)       | Normalization (Min-Max)      |\n",
    "|-----------------------------|--------------------------------|-----------------------------|\n",
    "| **Formula**                 | X-μ/σ | $$\n",
    "X' = \\frac{X - X_{\\min}}{X_{\\max} - X_{\\min}}\n",
    "$$ |\n",
    "| **Range**                   | No fixed range                | \\([0,1]\\) or \\([-1,1]\\)    |\n",
    "| **Effect on Data**          | Centered at 0, with unit variance | Rescales data within a fixed range |\n",
    "| **Best Used When**          | Data is normally distributed  | Data has different scales or outliers |\n",
    "| **Examples of Use Cases**   | SVM, PCA, Linear Regression, K-Means | Neural Networks, KNN, Image Processing |\n",
    "| **Sensitive to Outliers?**  | No                             | Yes                         |\n",
    "\n"
   ]
  },
  {
   "cell_type": "markdown",
   "id": "a959ce34",
   "metadata": {},
   "source": []
  },
  {
   "cell_type": "markdown",
   "id": "0a060478",
   "metadata": {},
   "source": [
    "# Cross Validation : A technique to improve model performance"
   ]
  },
  {
   "cell_type": "markdown",
   "id": "c5998feb",
   "metadata": {},
   "source": [
    "cross validation is a technique used to evaluate the performance of a machine learning model by "
   ]
  },
  {
   "cell_type": "markdown",
   "id": "63fe6546",
   "metadata": {},
   "source": [
    "## Why Use Cross-Validation?\n",
    "\n",
    "- **Prevents Overfitting** – Ensures the model generalizes well to new data instead of just memorizing the training set.  \n",
    "- **Improves Model Evaluation** – Tests the model on different subsets of data, providing a more comprehensive assessment.  \n",
    "- **Provides Reliable Performance Estimates** – Reduces variability compared to a single train-test split, leading to more consistent results.  \n"
   ]
  },
  {
   "cell_type": "markdown",
   "id": "48669861",
   "metadata": {},
   "source": [
    "## 1. K-Fold Cross-Validation (Most Common)\n",
    "\n",
    "### How It Works?\n",
    "\n",
    "1. Split the dataset into **K** equal-sized folds.  \n",
    "2. Train the model on **K-1** folds and test on the remaining fold.  \n",
    "3. Repeat the process **K** times, each time using a different fold as the test set.  \n",
    "4. Compute the **average performance** across all **K** iterations.  \n"
   ]
  },
  {
   "cell_type": "markdown",
   "id": "6ec08fb7",
   "metadata": {},
   "source": [
    "### Example (K = 5)\n",
    "| Iteration | Training Folds      | Testing Fold |\n",
    "|-----------|---------------------|--------------|\n",
    "| 1         | 2, 3, 4, 5          | 1            |\n",
    "| 2         | 1, 3, 4, 5          | 2            |\n",
    "| 3         | 1, 2, 4, 5          | 3            |\n",
    "| 4         | 1, 2, 3, 5          | 4            |\n",
    "| 5         | 1, 2, 3, 4          | 5            |\n"
   ]
  },
  {
   "cell_type": "code",
   "execution_count": 21,
   "id": "11592962",
   "metadata": {},
   "outputs": [
    {
     "name": "stdout",
     "output_type": "stream",
     "text": [
      "Cross-validation scores: [0.93708841 0.97124696 0.96886821 0.94274007 0.96240286]\n",
      "Average score: 0.9564693037880823\n"
     ]
    }
   ],
   "source": [
    "from sklearn.model_selection import KFold, cross_val_score\n",
    "from sklearn.linear_model import LinearRegression\n",
    "from sklearn.datasets import make_regression\n",
    "import numpy as np\n",
    "import pandas as pd\n",
    "\n",
    "# Generate synthetic data\n",
    "X, y = make_regression(n_samples=100, n_features=2, noise=20,random_state=42)\n",
    "\n",
    "# K-Fold Cross-Validation setup\n",
    "kf = KFold(n_splits=5, shuffle=True, random_state=42)\n",
    "\n",
    "# Initialize Linear Regression model\n",
    "model = LinearRegression()\n",
    "\n",
    "# Perform cross-validation\n",
    "scores = cross_val_score(model, X, y, cv=kf, scoring='r2')\n",
    "\n",
    "# Print cross-validation results\n",
    "print(\"Cross-validation scores:\", scores)\n",
    "print(\"Average score:\", np.mean(scores))\n"
   ]
  },
  {
   "cell_type": "code",
   "execution_count": 22,
   "id": "eea166a6",
   "metadata": {},
   "outputs": [],
   "source": [
    "from sklearn.datasets import fetch_california_housing\n",
    "california=fetch_california_housing()\n",
    "df=pd.DataFrame(california.data,columns=california.feature_names)"
   ]
  },
  {
   "cell_type": "code",
   "execution_count": 26,
   "id": "7459f12d",
   "metadata": {},
   "outputs": [],
   "source": [
    "X=df\n",
    "y=california.target"
   ]
  },
  {
   "cell_type": "code",
   "execution_count": 27,
   "id": "b693feab",
   "metadata": {},
   "outputs": [],
   "source": [
    "kf = KFold(n_splits=5, shuffle=True, random_state=42)"
   ]
  },
  {
   "cell_type": "code",
   "execution_count": 31,
   "id": "f7759698",
   "metadata": {},
   "outputs": [
    {
     "name": "stdout",
     "output_type": "stream",
     "text": [
      "Cross-validation scores: [0.57578771 0.61374822 0.60856043 0.62126494 0.5875292 ]\n",
      "Average score: 0.6013781013684618\n"
     ]
    }
   ],
   "source": [
    "model = LinearRegression()\n",
    "\n",
    "# Perform cross-validation\n",
    "scores = cross_val_score(model, X, y, cv=kf, scoring='r2')\n",
    "\n",
    "# Print results\n",
    "print(\"Cross-validation scores:\", scores)\n",
    "print(\"Average score:\", np.mean(scores))"
   ]
  },
  {
   "cell_type": "code",
   "execution_count": null,
   "id": "10608733",
   "metadata": {},
   "outputs": [],
   "source": []
  },
  {
   "cell_type": "code",
   "execution_count": null,
   "id": "87b1fac4",
   "metadata": {},
   "outputs": [],
   "source": []
  }
 ],
 "metadata": {
  "kernelspec": {
   "display_name": "Python 3 (ipykernel)",
   "language": "python",
   "name": "python3"
  },
  "language_info": {
   "codemirror_mode": {
    "name": "ipython",
    "version": 3
   },
   "file_extension": ".py",
   "mimetype": "text/x-python",
   "name": "python",
   "nbconvert_exporter": "python",
   "pygments_lexer": "ipython3",
   "version": "3.11.5"
  }
 },
 "nbformat": 4,
 "nbformat_minor": 5
}
