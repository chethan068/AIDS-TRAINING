{
 "cells": [
  {
   "cell_type": "code",
   "execution_count": 1,
   "id": "c1f89856",
   "metadata": {},
   "outputs": [],
   "source": [
    "import numpy as np\n",
    "import pandas as pd"
   ]
  },
  {
   "cell_type": "code",
   "execution_count": 3,
   "id": "c0218c32",
   "metadata": {},
   "outputs": [],
   "source": [
    "df=pd.read_csv('C:/Users/CVR/Downloads/archive (2)/headbrain.csv')"
   ]
  },
  {
   "cell_type": "code",
   "execution_count": 4,
   "id": "1dbd479b",
   "metadata": {},
   "outputs": [
    {
     "data": {
      "text/plain": [
       "Index(['Gender', 'Age Range', 'Head Size(cm^3)', 'Brain Weight(grams)'], dtype='object')"
      ]
     },
     "execution_count": 4,
     "metadata": {},
     "output_type": "execute_result"
    }
   ],
   "source": [
    "df.columns"
   ]
  },
  {
   "cell_type": "code",
   "execution_count": 5,
   "id": "62fd5fb4",
   "metadata": {},
   "outputs": [],
   "source": [
    "x=df['Head Size(cm^3)']\n",
    "y=df['Brain Weight(grams)']"
   ]
  },
  {
   "cell_type": "code",
   "execution_count": 6,
   "id": "7c8323e7",
   "metadata": {},
   "outputs": [
    {
     "name": "stdout",
     "output_type": "stream",
     "text": [
      "0      4512\n",
      "1      3738\n",
      "2      4261\n",
      "3      3777\n",
      "4      4177\n",
      "       ... \n",
      "232    3214\n",
      "233    3394\n",
      "234    3233\n",
      "235    3352\n",
      "236    3391\n",
      "Name: Head Size(cm^3), Length: 237, dtype: int64\n"
     ]
    }
   ],
   "source": [
    "print(x)"
   ]
  },
  {
   "cell_type": "code",
   "execution_count": 8,
   "id": "21df7978",
   "metadata": {},
   "outputs": [
    {
     "data": {
      "text/plain": [
       "0"
      ]
     },
     "execution_count": 8,
     "metadata": {},
     "output_type": "execute_result"
    }
   ],
   "source": [
    "x.isna().sum()"
   ]
  },
  {
   "cell_type": "code",
   "execution_count": 9,
   "id": "3d80142a",
   "metadata": {},
   "outputs": [
    {
     "data": {
      "text/plain": [
       "0"
      ]
     },
     "execution_count": 9,
     "metadata": {},
     "output_type": "execute_result"
    }
   ],
   "source": [
    "y.isna().sum()"
   ]
  },
  {
   "cell_type": "code",
   "execution_count": 10,
   "id": "0f35c5bb",
   "metadata": {},
   "outputs": [
    {
     "name": "stdout",
     "output_type": "stream",
     "text": [
      "3633.9915611814345\n"
     ]
    }
   ],
   "source": [
    "mean_x=x.mean()\n",
    "print(mean_x)"
   ]
  },
  {
   "cell_type": "code",
   "execution_count": 11,
   "id": "bcb898b4",
   "metadata": {},
   "outputs": [],
   "source": [
    "mean_y=y.mean()"
   ]
  },
  {
   "cell_type": "code",
   "execution_count": 12,
   "id": "f6c1c798",
   "metadata": {},
   "outputs": [
    {
     "name": "stdout",
     "output_type": "stream",
     "text": [
      "1282.873417721519\n"
     ]
    }
   ],
   "source": [
    "print(mean_y)"
   ]
  },
  {
   "cell_type": "code",
   "execution_count": 13,
   "id": "5546f27f",
   "metadata": {},
   "outputs": [],
   "source": [
    "df['x-bar']=df['Head Size(cm^3)']-mean_x"
   ]
  },
  {
   "cell_type": "code",
   "execution_count": 15,
   "id": "5774c7f5",
   "metadata": {},
   "outputs": [],
   "source": [
    "df['y-bar']=df['Brain Weight(grams)']-mean_y"
   ]
  },
  {
   "cell_type": "code",
   "execution_count": 17,
   "id": "d4b140bf",
   "metadata": {},
   "outputs": [
    {
     "name": "stdout",
     "output_type": "stream",
     "text": [
      "Slope (m): 0.26342933948939945\n",
      "Intercept (c): 325.57342104944223\n"
     ]
    }
   ],
   "source": [
    "def LinearRegression(X,y,x_m,y_m):\n",
    "    num=0\n",
    "    den=0\n",
    "    n=len(X)\n",
    "    for i in range(n):\n",
    "        num=num+(X[i]-x_m)*(y[i]-y_m)\n",
    "        den=den+(X[i]-x_m)**2\n",
    "    m=num/den\n",
    "    c=y_m-m*x_m\n",
    "    return m,c\n",
    "m, c = LinearRegression(df['Head Size(cm^3)'], df['Brain Weight(grams)'], mean_x, mean_y)\n",
    "\n",
    "print(f\"Slope (m): {m}\")\n",
    "print(f\"Intercept (c): {c}\")\n",
    "    "
   ]
  },
  {
   "cell_type": "code",
   "execution_count": 18,
   "id": "888e8898",
   "metadata": {},
   "outputs": [
    {
     "name": "stdout",
     "output_type": "stream",
     "text": [
      "y=0.26342933948939945x+325.57342104944223\n"
     ]
    }
   ],
   "source": [
    "print(f\"y={m}x+{c}\")"
   ]
  },
  {
   "cell_type": "code",
   "execution_count": 19,
   "id": "b1c0e913",
   "metadata": {},
   "outputs": [],
   "source": [
    "def y_predict(x):\n",
    "    yp=[]\n",
    "    for i in range(len(x)):\n",
    "        yp.append(m*x[i]+c)\n",
    "    return yp\n",
    "        "
   ]
  },
  {
   "cell_type": "code",
   "execution_count": 21,
   "id": "4a8b7462",
   "metadata": {},
   "outputs": [],
   "source": [
    "y_p=y_predict(df['Head Size(cm^3)'])"
   ]
  },
  {
   "cell_type": "code",
   "execution_count": 23,
   "id": "0b039f8f",
   "metadata": {},
   "outputs": [],
   "source": [
    "#print(y_p)"
   ]
  },
  {
   "cell_type": "code",
   "execution_count": 29,
   "id": "f6fa838c",
   "metadata": {},
   "outputs": [],
   "source": [
    "def rsquare(y_p,mean_y,y,y_bar):\n",
    "    nume=0\n",
    "    deno=0\n",
    "    for i in range(len(y)):\n",
    "        nume=nume+(y_p[i]-mean_y)**2\n",
    "        deno=deno+y_bar[i]**2\n",
    "    return nume/deno\n",
    "rs_score=1-rsquare(y_p,mean_y,df['Brain Weight(grams)'],df['y-bar'])"
   ]
  },
  {
   "cell_type": "code",
   "execution_count": 30,
   "id": "12955928",
   "metadata": {},
   "outputs": [
    {
     "name": "stdout",
     "output_type": "stream",
     "text": [
      "0.3606882800429999\n"
     ]
    }
   ],
   "source": [
    "print(rs_score)"
   ]
  },
  {
   "cell_type": "code",
   "execution_count": null,
   "id": "5751c387",
   "metadata": {},
   "outputs": [],
   "source": []
  }
 ],
 "metadata": {
  "kernelspec": {
   "display_name": "Python 3 (ipykernel)",
   "language": "python",
   "name": "python3"
  },
  "language_info": {
   "codemirror_mode": {
    "name": "ipython",
    "version": 3
   },
   "file_extension": ".py",
   "mimetype": "text/x-python",
   "name": "python",
   "nbconvert_exporter": "python",
   "pygments_lexer": "ipython3",
   "version": "3.11.5"
  }
 },
 "nbformat": 4,
 "nbformat_minor": 5
}
