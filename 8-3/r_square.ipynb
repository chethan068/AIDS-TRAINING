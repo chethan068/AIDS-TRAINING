{
 "cells": [
  {
   "cell_type": "code",
   "execution_count": 59,
   "id": "312fa469",
   "metadata": {},
   "outputs": [],
   "source": [
    "import numpy as np\n",
    "import pandas as pd\n",
    "df=pd.DataFrame({\n",
    "    \"x\":[1,2,3,4,5],\n",
    "    \"y\":[3,4,2,4,5]\n",
    "})\n"
   ]
  },
  {
   "cell_type": "code",
   "execution_count": 60,
   "id": "c8e32c83",
   "metadata": {
    "scrolled": true
   },
   "outputs": [
    {
     "name": "stdout",
     "output_type": "stream",
     "text": [
      "   x  y\n",
      "0  1  3\n",
      "1  2  4\n",
      "2  3  2\n",
      "3  4  4\n",
      "4  5  5\n"
     ]
    }
   ],
   "source": [
    "print(df)"
   ]
  },
  {
   "cell_type": "code",
   "execution_count": 61,
   "id": "a79cddbd",
   "metadata": {},
   "outputs": [],
   "source": [
    "mean_x=df[\"x\"].mean()\n",
    "mean_y=df[\"y\"].mean()"
   ]
  },
  {
   "cell_type": "code",
   "execution_count": 62,
   "id": "d90d4a97",
   "metadata": {},
   "outputs": [
    {
     "name": "stdout",
     "output_type": "stream",
     "text": [
      "3.0\n"
     ]
    }
   ],
   "source": [
    "print(mean_x)"
   ]
  },
  {
   "cell_type": "code",
   "execution_count": 63,
   "id": "eaff40f4",
   "metadata": {},
   "outputs": [
    {
     "name": "stdout",
     "output_type": "stream",
     "text": [
      "3.6\n"
     ]
    }
   ],
   "source": [
    "print(mean_y)"
   ]
  },
  {
   "cell_type": "code",
   "execution_count": 64,
   "id": "0548cfc6",
   "metadata": {},
   "outputs": [],
   "source": [
    "df[\"y_bar\"]=df[\"y\"]-mean_y"
   ]
  },
  {
   "cell_type": "code",
   "execution_count": 65,
   "id": "b16783ad",
   "metadata": {},
   "outputs": [],
   "source": [
    "df[\"x_bar\"]=df[\"x\"]-mean_x"
   ]
  },
  {
   "cell_type": "code",
   "execution_count": 66,
   "id": "8a833c16",
   "metadata": {},
   "outputs": [
    {
     "name": "stdout",
     "output_type": "stream",
     "text": [
      "   x  y  y_bar  x_bar\n",
      "0  1  3   -0.6   -2.0\n",
      "1  2  4    0.4   -1.0\n",
      "2  3  2   -1.6    0.0\n",
      "3  4  4    0.4    1.0\n",
      "4  5  5    1.4    2.0\n"
     ]
    }
   ],
   "source": [
    "print(df)\n",
    "num=0\n",
    "den=0"
   ]
  },
  {
   "cell_type": "code",
   "execution_count": 67,
   "id": "decee1fc",
   "metadata": {},
   "outputs": [
    {
     "name": "stdout",
     "output_type": "stream",
     "text": [
      "Slope (m): 0.4\n",
      "Intercept (c): 2.4\n"
     ]
    }
   ],
   "source": [
    "def LinearRegression(X,y,x_m,y_m):\n",
    "    num=0\n",
    "    den=0\n",
    "    n=len(X)\n",
    "    for i in range(n):\n",
    "        num=num+(X[i]-x_m)*(y[i]-y_m)\n",
    "        den=den+(X[i]-x_m)**2\n",
    "    m=num/den\n",
    "    c=y_m-m*x_m\n",
    "    return m,c\n",
    "m, c = LinearRegression(df['x'], df['y'], mean_x, mean_y)\n",
    "\n",
    "print(f\"Slope (m): {m}\")\n",
    "print(f\"Intercept (c): {c}\")\n",
    "    "
   ]
  },
  {
   "cell_type": "code",
   "execution_count": 69,
   "id": "73b7a545",
   "metadata": {},
   "outputs": [
    {
     "name": "stdout",
     "output_type": "stream",
     "text": [
      "y=0.4x+2.4\n"
     ]
    }
   ],
   "source": [
    "print(f\"y={m}x+{c}\")"
   ]
  },
  {
   "cell_type": "code",
   "execution_count": 73,
   "id": "468559b8",
   "metadata": {},
   "outputs": [],
   "source": [
    "def y_predict(x):\n",
    "    yp=[]\n",
    "    for i in range(len(x)):\n",
    "        yp.append(m*x[i]+c)\n",
    "    return yp\n",
    "        "
   ]
  },
  {
   "cell_type": "code",
   "execution_count": 74,
   "id": "63b08e65",
   "metadata": {},
   "outputs": [],
   "source": [
    "y_p=y_predict(df['x'])"
   ]
  },
  {
   "cell_type": "code",
   "execution_count": 75,
   "id": "538190d9",
   "metadata": {},
   "outputs": [
    {
     "name": "stdout",
     "output_type": "stream",
     "text": [
      "[2.8, 3.2, 3.6, 4.0, 4.4]\n"
     ]
    }
   ],
   "source": [
    "print(y_p)"
   ]
  },
  {
   "cell_type": "code",
   "execution_count": 82,
   "id": "d2498583",
   "metadata": {},
   "outputs": [],
   "source": [
    "def rsquare(y_p,mean_y,y,y_bar):\n",
    "    nume=0\n",
    "    deno=0\n",
    "    for i in range(len(y)):\n",
    "        nume=nume+(y_p[i]-mean_y)**2\n",
    "        deno=deno+y_bar[i]**2\n",
    "    return nume/deno\n",
    "rs_score=1-rsquare(y_p,mean_y,df['y'],df['y_bar'])"
   ]
  },
  {
   "cell_type": "code",
   "execution_count": 83,
   "id": "59af7834",
   "metadata": {
    "scrolled": true
   },
   "outputs": [
    {
     "name": "stdout",
     "output_type": "stream",
     "text": [
      "0.6923076923076922\n"
     ]
    }
   ],
   "source": [
    "print(rs_score)"
   ]
  },
  {
   "cell_type": "code",
   "execution_count": null,
   "id": "36b0683e",
   "metadata": {},
   "outputs": [],
   "source": []
  }
 ],
 "metadata": {
  "kernelspec": {
   "display_name": "Python 3 (ipykernel)",
   "language": "python",
   "name": "python3"
  },
  "language_info": {
   "codemirror_mode": {
    "name": "ipython",
    "version": 3
   },
   "file_extension": ".py",
   "mimetype": "text/x-python",
   "name": "python",
   "nbconvert_exporter": "python",
   "pygments_lexer": "ipython3",
   "version": "3.11.5"
  }
 },
 "nbformat": 4,
 "nbformat_minor": 5
}
